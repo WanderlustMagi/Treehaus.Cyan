{
 "cells": [
  {
   "cell_type": "code",
   "execution_count": 86,
   "metadata": {},
   "outputs": [
    {
     "name": "stdout",
     "output_type": "stream",
     "text": [
      "Apples 1\n",
      "Chicken 1\n",
      "Pork 2\n",
      "Onions 4\n",
      "Eggs 5\n",
      "Sausage 0\n",
      "Garlic 1\n",
      "Mustard 1\n"
     ]
    }
   ],
   "source": [
    "import pandas as pd\n",
    "\n",
    "\n",
    "class Fridge():\n",
    "    def __init__(self, name, inventory):\n",
    "        self.name = name\n",
    "        self.inv = inventory\n",
    "        \n",
    "    def show_fridge(self):\n",
    "        for i,k in self.inv.items():\n",
    "            print(i,k)\n",
    "    \n",
    "    def count_ingredients(self, recipe):\n",
    "        for i,k in recipe.ingredients.items():\n",
    "            if k <= self.inv[i]:\n",
    "                print(\"You've got enough\", i)\n",
    "            else:\n",
    "                print(\"Not enough\", i)\n",
    "                break\n",
    "        print(\"You're cooking\", recipe.recipe_name)\n",
    "        print(recipe.ttc, \"Minutes to cook\")\n",
    "        print(recipe.ss, \"Person Serving Size\")\n",
    "        print(recipe.instructions)\n",
    "                        \n",
    "    def plan_dinner(self, recipe):\n",
    "        for i in recipe.ingredients.keys():\n",
    "            if i in self.inv.keys():\n",
    "                print(i, \"Check\")\n",
    "            elif i not in self.inv:\n",
    "                print(i, \"Not Found, Add ingredient to fridge or choose another recipe!\")\n",
    "                break\n",
    "        self.count_ingredients(recipe)\n",
    "        \n",
    "class Recipe():\n",
    "    ingredients = {}\n",
    "    instructions = \"\"\n",
    "    def __init__(self, recipe_name, time_to_cook, serving_size):\n",
    "        self.ttc = time_to_cook\n",
    "        self.ss = serving_size\n",
    "        self.recipe_name = recipe_name\n",
    "\n",
    "class Food(): \n",
    "    def __init__(self):\n",
    "        pass\n",
    "    \n",
    "    def nutri_info(self):\n",
    "        print(self.nutrition_facts)\n",
    "        \n",
    "    nutrition_facts = {\"Total Fat\": 0,\n",
    "                       \"Sat. Fat\": 0,\n",
    "                       \"Sodium\": 0,\n",
    "                       \"Protein\": 0}\n",
    "    nutri_fact_weight = \"\"\n",
    "    \n",
    "    sub_food = []\n",
    "        \n",
    "        \n",
    "\n",
    "new_fridge = {\"Apples\":1,\n",
    "              \"Chicken\":1,\n",
    "              \"Pork\":2,\n",
    "              \"Onions\":4,\n",
    "              \"Eggs\":5}\n",
    "\n",
    "michael_fridge = Fridge(\"Michael's Fridge\", new_fridge)\n",
    "# Update/Add inventory single items\n",
    "michael_fridge.inv.update({\"Sausage\": 0})\n",
    "# Updating/Adding inventory multi-item\n",
    "michael_fridge.inv.update({\"Garlic\":1,\"Mustard\":1})\n",
    "michael_fridge.show_fridge()"
   ]
  },
  {
   "cell_type": "code",
   "execution_count": 87,
   "metadata": {},
   "outputs": [],
   "source": [
    "omelet_recipe = Recipe(\"Omelet\", 10, 2)"
   ]
  },
  {
   "cell_type": "code",
   "execution_count": 88,
   "metadata": {},
   "outputs": [
    {
     "data": {
      "text/plain": [
       "{'Eggs': 2}"
      ]
     },
     "execution_count": 88,
     "metadata": {},
     "output_type": "execute_result"
    }
   ],
   "source": [
    "omelet_recipe.ingredients = {\"Eggs\": 2}\n",
    "omelet_recipe.ingredients"
   ]
  },
  {
   "cell_type": "code",
   "execution_count": 89,
   "metadata": {},
   "outputs": [
    {
     "name": "stdout",
     "output_type": "stream",
     "text": [
      "Eggs Check\n",
      "You've got enough Eggs\n",
      "You're cooking Omelet\n",
      "10 Minutes to cook\n",
      "2 Person Serving Size\n",
      "\n"
     ]
    }
   ],
   "source": [
    "michael_fridge.plan_dinner(omelet_recipe)"
   ]
  },
  {
   "cell_type": "code",
   "execution_count": 90,
   "metadata": {},
   "outputs": [],
   "source": [
    "omelet_recipe.instructions = \"\"\"\n",
    "1. Crack Eggs in a bowl\n",
    "2. Add salt and pepper to the eggs\n",
    "    2.5. Start a pan on medium heat with butter\n",
    "3. Whisk or fork the mixture\n",
    "4. Put the mixture in the pan, do not stir\n",
    "5. Wait for the outside rim of the egg mixture to stiffen\n",
    "    5.5. Add any additional ingredients here\n",
    "6. Flip one side of egg over onto the other side\n",
    "7. Allow the mixture to completely solidify\n",
    "8. Remove from pan\n",
    "\"\"\""
   ]
  },
  {
   "cell_type": "code",
   "execution_count": 91,
   "metadata": {},
   "outputs": [
    {
     "name": "stdout",
     "output_type": "stream",
     "text": [
      "Eggs Check\n",
      "You've got enough Eggs\n",
      "You're cooking Omelet\n",
      "10 Minutes to cook\n",
      "2 Person Serving Size\n",
      "\n",
      "1. Crack Eggs in a bowl\n",
      "2. Add salt and pepper to the eggs\n",
      "    2.5. Start a pan on medium heat with butter\n",
      "3. Whisk or fork the mixture\n",
      "4. Put the mixture in the pan, do not stir\n",
      "5. Wait for the outside rim of the egg mixture to stiffen\n",
      "    5.5. Add any additional ingredients here\n",
      "6. Flip one side of egg over onto the other side\n",
      "7. Allow the mixture to completely solidify\n",
      "8. Remove from pan\n",
      "\n"
     ]
    }
   ],
   "source": [
    "michael_fridge.plan_dinner(omelet_recipe)"
   ]
  },
  {
   "cell_type": "code",
   "execution_count": 92,
   "metadata": {},
   "outputs": [
    {
     "data": {
      "text/html": [
       "<div>\n",
       "<style scoped>\n",
       "    .dataframe tbody tr th:only-of-type {\n",
       "        vertical-align: middle;\n",
       "    }\n",
       "\n",
       "    .dataframe tbody tr th {\n",
       "        vertical-align: top;\n",
       "    }\n",
       "\n",
       "    .dataframe thead th {\n",
       "        text-align: right;\n",
       "    }\n",
       "</style>\n",
       "<table border=\"1\" class=\"dataframe\">\n",
       "  <thead>\n",
       "    <tr style=\"text-align: right;\">\n",
       "      <th></th>\n",
       "      <th>name</th>\n",
       "      <th>description</th>\n",
       "      <th>ingredients</th>\n",
       "      <th>ingredients_raw_str</th>\n",
       "      <th>serving_size</th>\n",
       "      <th>servings</th>\n",
       "      <th>steps</th>\n",
       "      <th>tags</th>\n",
       "      <th>search_terms</th>\n",
       "    </tr>\n",
       "    <tr>\n",
       "      <th>id</th>\n",
       "      <th></th>\n",
       "      <th></th>\n",
       "      <th></th>\n",
       "      <th></th>\n",
       "      <th></th>\n",
       "      <th></th>\n",
       "      <th></th>\n",
       "      <th></th>\n",
       "      <th></th>\n",
       "    </tr>\n",
       "  </thead>\n",
       "  <tbody>\n",
       "    <tr>\n",
       "      <th>96313</th>\n",
       "      <td>Grilled Garlic Cheese Grits</td>\n",
       "      <td>We love grits, this is another good way to ser...</td>\n",
       "      <td>['water', 'grits', 'salt', 'cheddar cheese', '...</td>\n",
       "      <td>[\"4   cups    water\",\"1   cup   uncooked old f...</td>\n",
       "      <td>1 (155 g)</td>\n",
       "      <td>8</td>\n",
       "      <td>['I a sauce pan, bring water to a boil; slowly...</td>\n",
       "      <td>['time-to-make', 'course', 'main-ingredient', ...</td>\n",
       "      <td>{'diabetic', 'low-calorie', 'vegetarian', 'low...</td>\n",
       "    </tr>\n",
       "    <tr>\n",
       "      <th>232037</th>\n",
       "      <td>Simple Shrimp and Andouille Jambalaya</td>\n",
       "      <td>Simple, easy and very tasty for when you are i...</td>\n",
       "      <td>['onion', 'red bell pepper', 'garlic cloves', ...</td>\n",
       "      <td>[\"1   medium    onion, chopped coarse \",\"1   m...</td>\n",
       "      <td>1 (366 g)</td>\n",
       "      <td>4</td>\n",
       "      <td>['In a food processor, pulse the onion, red pe...</td>\n",
       "      <td>['60-minutes-or-less', 'time-to-make', 'course...</td>\n",
       "      <td>{'dinner', 'shrimp'}</td>\n",
       "    </tr>\n",
       "    <tr>\n",
       "      <th>41090</th>\n",
       "      <td>black-and-white bean salad</td>\n",
       "      <td>NaN</td>\n",
       "      <td>['white beans', 'canned black beans', 'tomatoe...</td>\n",
       "      <td>[\"1   cup   canned white beans, rinsed and dra...</td>\n",
       "      <td>1 (807 g)</td>\n",
       "      <td>1</td>\n",
       "      <td>['In a large bowl, combine beans, tomato, onio...</td>\n",
       "      <td>['15-minutes-or-less', 'time-to-make', 'course...</td>\n",
       "      <td>{'vegetarian', 'salad', 'side', 'dinner', 'veg...</td>\n",
       "    </tr>\n",
       "    <tr>\n",
       "      <th>60656</th>\n",
       "      <td>Crock Pot Italian Zucchini</td>\n",
       "      <td>This is a good recipe for weight watchers. It ...</td>\n",
       "      <td>['zucchini', 'yellow squash', 'diced tomatoes'...</td>\n",
       "      <td>[\"2       zucchini, sliced \",\"2   small    yel...</td>\n",
       "      <td>1 (244 g)</td>\n",
       "      <td>4</td>\n",
       "      <td>['Put all ingredients in the crock pot and coo...</td>\n",
       "      <td>['weeknight', 'time-to-make', 'course', 'main-...</td>\n",
       "      <td>{'side', 'vegetarian', 'italian'}</td>\n",
       "    </tr>\n",
       "    <tr>\n",
       "      <th>232047</th>\n",
       "      <td>Beef Stew With Dried Cherries</td>\n",
       "      <td>This is a fabulous stew that came from one of ...</td>\n",
       "      <td>['beef stew meat', 'flour', 'salt', 'allspice'...</td>\n",
       "      <td>[\"3   lbs    beef stew meat\",\"3   tablespoons ...</td>\n",
       "      <td>1 (358 g)</td>\n",
       "      <td>8</td>\n",
       "      <td>['Preheat oven to 350°F.', \"Cut beef into 1 in...</td>\n",
       "      <td>['time-to-make', 'course', 'main-ingredient', ...</td>\n",
       "      <td>{'dinner'}</td>\n",
       "    </tr>\n",
       "  </tbody>\n",
       "</table>\n",
       "</div>"
      ],
      "text/plain": [
       "                                         name  \\\n",
       "id                                              \n",
       "96313             Grilled Garlic Cheese Grits   \n",
       "232037  Simple Shrimp and Andouille Jambalaya   \n",
       "41090              black-and-white bean salad   \n",
       "60656              Crock Pot Italian Zucchini   \n",
       "232047          Beef Stew With Dried Cherries   \n",
       "\n",
       "                                              description  \\\n",
       "id                                                          \n",
       "96313   We love grits, this is another good way to ser...   \n",
       "232037  Simple, easy and very tasty for when you are i...   \n",
       "41090                                                 NaN   \n",
       "60656   This is a good recipe for weight watchers. It ...   \n",
       "232047  This is a fabulous stew that came from one of ...   \n",
       "\n",
       "                                              ingredients  \\\n",
       "id                                                          \n",
       "96313   ['water', 'grits', 'salt', 'cheddar cheese', '...   \n",
       "232037  ['onion', 'red bell pepper', 'garlic cloves', ...   \n",
       "41090   ['white beans', 'canned black beans', 'tomatoe...   \n",
       "60656   ['zucchini', 'yellow squash', 'diced tomatoes'...   \n",
       "232047  ['beef stew meat', 'flour', 'salt', 'allspice'...   \n",
       "\n",
       "                                      ingredients_raw_str serving_size  \\\n",
       "id                                                                       \n",
       "96313   [\"4   cups    water\",\"1   cup   uncooked old f...    1 (155 g)   \n",
       "232037  [\"1   medium    onion, chopped coarse \",\"1   m...    1 (366 g)   \n",
       "41090   [\"1   cup   canned white beans, rinsed and dra...    1 (807 g)   \n",
       "60656   [\"2       zucchini, sliced \",\"2   small    yel...    1 (244 g)   \n",
       "232047  [\"3   lbs    beef stew meat\",\"3   tablespoons ...    1 (358 g)   \n",
       "\n",
       "        servings                                              steps  \\\n",
       "id                                                                    \n",
       "96313          8  ['I a sauce pan, bring water to a boil; slowly...   \n",
       "232037         4  ['In a food processor, pulse the onion, red pe...   \n",
       "41090          1  ['In a large bowl, combine beans, tomato, onio...   \n",
       "60656          4  ['Put all ingredients in the crock pot and coo...   \n",
       "232047         8  ['Preheat oven to 350°F.', \"Cut beef into 1 in...   \n",
       "\n",
       "                                                     tags  \\\n",
       "id                                                          \n",
       "96313   ['time-to-make', 'course', 'main-ingredient', ...   \n",
       "232037  ['60-minutes-or-less', 'time-to-make', 'course...   \n",
       "41090   ['15-minutes-or-less', 'time-to-make', 'course...   \n",
       "60656   ['weeknight', 'time-to-make', 'course', 'main-...   \n",
       "232047  ['time-to-make', 'course', 'main-ingredient', ...   \n",
       "\n",
       "                                             search_terms  \n",
       "id                                                         \n",
       "96313   {'diabetic', 'low-calorie', 'vegetarian', 'low...  \n",
       "232037                               {'dinner', 'shrimp'}  \n",
       "41090   {'vegetarian', 'salad', 'side', 'dinner', 'veg...  \n",
       "60656                   {'side', 'vegetarian', 'italian'}  \n",
       "232047                                         {'dinner'}  "
      ]
     },
     "execution_count": 92,
     "metadata": {},
     "output_type": "execute_result"
    }
   ],
   "source": [
    "# Bring in the data\n",
    "recipe_df = pd.read_csv(\"D:/Coding Stuff/TH/Treehaus.Cyan/ML-Fridge/recipes_w_search_terms.csv\", index_col=0)\n",
    "recipe_df.head()"
   ]
  },
  {
   "cell_type": "code",
   "execution_count": 93,
   "metadata": {},
   "outputs": [
    {
     "data": {
      "text/plain": [
       "array([\"['water', 'grits', 'salt', 'cheddar cheese', 'garlic', 'olive oil']\",\n",
       "       \"['onion', 'red bell pepper', 'garlic cloves', 'large shrimp', 'salt', 'hot pepper sauce', 'vegetable oil', 'andouille sausage', 'long grain rice', 'bay leaves', 'diced tomatoes', 'clam juice', 'fresh parsley']\",\n",
       "       \"['white beans', 'canned black beans', 'tomatoes', 'onion', 'celery', 'white wine vinegar', 'italian parsley', 'table salt', 'black pepper', 'olive oil']\",\n",
       "       ...,\n",
       "       \"['boneless beef chuck roast', 'olive oil', 'tawny port', 'beef consomme', 'flour', 'butter', 'fresh mushrooms', 'garlic', 'salt and pepper', 'parsley']\",\n",
       "       \"['cabbage', 'condensed tomato soup', 'kielbasa', 'onions', 'water', 'bacon', 'flour', 'milk', 'salt and pepper']\",\n",
       "       \"['zucchini', 'onion', 'butter', 'oregano', 'basil', 'salt and pepper', 'eggs', 'mozzarella cheese', 'crescent rolls', 'dijon mustard']\"],\n",
       "      dtype=object)"
      ]
     },
     "execution_count": 93,
     "metadata": {},
     "output_type": "execute_result"
    }
   ],
   "source": [
    "recipe_df.ingredients.unique()\n",
    "# Ingredients are string type, have to change that"
   ]
  },
  {
   "cell_type": "code",
   "execution_count": 94,
   "metadata": {},
   "outputs": [
    {
     "data": {
      "text/plain": [
       "['paper', 'cloth']                                                                                                                                                          63\n",
       "[]                                                                                                                                                                          20\n",
       "['eggs', 'water']                                                                                                                                                           18\n",
       "['water', 'water']                                                                                                                                                          15\n",
       "['rice', 'water']                                                                                                                                                           11\n",
       "                                                                                                                                                                            ..\n",
       "['bacon', 'onion', 'instant minced garlic', 'tomatoes', 'tomato paste', 'chicken stock', 'oregano', 'pepper']                                                                1\n",
       "['rice vinegar', 'fresh ginger', 'honey', 'salt', 'cherry tomatoes', 'scallion']                                                                                             1\n",
       "['boneless skinless chicken breast', 'onion', 'sweet pepper', 'butter', 'frank%27s red hot sauce', 'ranch dressing', 'salt', 'pepper', 'cheese', 'flour tortillas']          1\n",
       "['soy sauce', 'olive oil', 'garlic cloves', 'dijon mustard', 'fresh rosemary', 'worcestershire sauce', 'fresh coarse ground black pepper', 'lager beer', 'flank steaks']     1\n",
       "['flour', 'brown sugar', 'butter', 'oatmeal', 'fruit', 'flour', 'brown sugar', 'cinnamon']                                                                                   1\n",
       "Name: ingredients, Length: 489864, dtype: int64"
      ]
     },
     "execution_count": 94,
     "metadata": {},
     "output_type": "execute_result"
    }
   ],
   "source": [
    "recipe_df.ingredients.value_counts()"
   ]
  },
  {
   "cell_type": "code",
   "execution_count": 95,
   "metadata": {},
   "outputs": [
    {
     "data": {
      "text/plain": [
       "count                 494963\n",
       "unique                489864\n",
       "top       ['paper', 'cloth']\n",
       "freq                      63\n",
       "Name: ingredients, dtype: object"
      ]
     },
     "execution_count": 95,
     "metadata": {},
     "output_type": "execute_result"
    }
   ],
   "source": [
    "# Showing 20 recipes with no ingredients, going to remove those later\n",
    "recipe_df.ingredients.describe()        # Describing the ingredients column"
   ]
  },
  {
   "cell_type": "code",
   "execution_count": 96,
   "metadata": {},
   "outputs": [
    {
     "data": {
      "text/plain": [
       "\"['water', 'grits', 'salt', 'cheddar cheese', 'garlic', 'olive oil']\""
      ]
     },
     "execution_count": 96,
     "metadata": {},
     "output_type": "execute_result"
    }
   ],
   "source": [
    "# Listing the first recipes ingredients to check format\n",
    "recipe_df.ingredients.iloc[0]"
   ]
  },
  {
   "cell_type": "code",
   "execution_count": 97,
   "metadata": {},
   "outputs": [
    {
     "name": "stdout",
     "output_type": "stream",
     "text": [
      "affirmitive partner\n"
     ]
    }
   ],
   "source": [
    "# String format, will have to remove the extra spces and characters\n",
    "# Check if search works within the string\n",
    "if 'water' in recipe_df.ingredients.iloc[0]:\n",
    "    print('affirmitive partner')"
   ]
  },
  {
   "cell_type": "markdown",
   "metadata": {},
   "source": [
    "Trying to seperate the ingredients column items, they came as a string."
   ]
  },
  {
   "cell_type": "code",
   "execution_count": 98,
   "metadata": {},
   "outputs": [
    {
     "data": {
      "text/plain": [
       "\"['water', 'grits', 'salt', 'cheddar cheese', 'garlic', 'olive oil']\""
      ]
     },
     "execution_count": 98,
     "metadata": {},
     "output_type": "execute_result"
    }
   ],
   "source": [
    "ind = recipe_df.ingredients.iloc[0]\n",
    "ind"
   ]
  },
  {
   "cell_type": "code",
   "execution_count": 99,
   "metadata": {},
   "outputs": [
    {
     "data": {
      "text/plain": [
       "str"
      ]
     },
     "execution_count": 99,
     "metadata": {},
     "output_type": "execute_result"
    }
   ],
   "source": [
    "type(ind)       # Its a string type so I can replace the letters before splitting into a list"
   ]
  },
  {
   "cell_type": "code",
   "execution_count": 100,
   "metadata": {},
   "outputs": [
    {
     "name": "stderr",
     "output_type": "stream",
     "text": [
      "C:\\Python39\\lib\\site-packages\\pandas\\core\\indexing.py:1637: SettingWithCopyWarning: \n",
      "A value is trying to be set on a copy of a slice from a DataFrame\n",
      "\n",
      "See the caveats in the documentation: https://pandas.pydata.org/pandas-docs/stable/user_guide/indexing.html#returning-a-view-versus-a-copy\n",
      "  self._setitem_single_block(indexer, value, name)\n"
     ]
    }
   ],
   "source": [
    "\n",
    "ind = ind.replace(\"['\", \"\")\n",
    "ind = ind.replace(\"']\", \"\")\n",
    "ind = ind.split('\\', \\'')\n",
    "ind = pd.Series(ind)        # Turn into series because why not\n",
    "recipe_df.ingredients.iloc[0] = ind # Set the new series as the ingredient list"
   ]
  },
  {
   "cell_type": "code",
   "execution_count": 101,
   "metadata": {},
   "outputs": [
    {
     "data": {
      "text/plain": [
       "0             water\n",
       "1             grits\n",
       "2              salt\n",
       "3    cheddar cheese\n",
       "4            garlic\n",
       "5         olive oil\n",
       "dtype: object"
      ]
     },
     "execution_count": 101,
     "metadata": {},
     "output_type": "execute_result"
    }
   ],
   "source": [
    "recipe_df.ingredients.iloc[0]"
   ]
  },
  {
   "cell_type": "code",
   "execution_count": 102,
   "metadata": {},
   "outputs": [
    {
     "data": {
      "text/plain": [
       "pandas.core.series.Series"
      ]
     },
     "execution_count": 102,
     "metadata": {},
     "output_type": "execute_result"
    }
   ],
   "source": [
    "type(ind)"
   ]
  },
  {
   "cell_type": "code",
   "execution_count": 103,
   "metadata": {},
   "outputs": [
    {
     "data": {
      "text/plain": [
       "'[\"4   cups    water\",\"1   cup   uncooked old fashion grits\",\"1   teaspoon    salt\",\"4   ounces   shredded cheddar cheese\",\"1 -2   clove    garlic, minced \",\"1   tablespoon    olive oil\"]'"
      ]
     },
     "execution_count": 103,
     "metadata": {},
     "output_type": "execute_result"
    }
   ],
   "source": [
    "recipe_df.ingredients_raw_str.iloc[0]\n",
    "type(recipe_df.ingredients_raw_str.iloc[0])\n",
    "recipe_df.ingredients_raw_str.iloc[0]"
   ]
  },
  {
   "cell_type": "markdown",
   "metadata": {},
   "source": [
    "Notes about raw ing\n",
    "+ seperated by ' \\\",\\\" '\n",
    "+ has multiple whitespaces\n",
    "    + `'     '`\n",
    "    + `'    '`\n",
    "    + `'   '`\n",
    "    + `'  '`"
   ]
  },
  {
   "cell_type": "code",
   "execution_count": 104,
   "metadata": {},
   "outputs": [],
   "source": [
    "ind_raw = recipe_df.ingredients_raw_str.iloc[0]\n",
    "ind_raw = ind_raw.replace('     ', \" \")\n",
    "ind_raw = ind_raw.replace('    ', \" \")\n",
    "ind_raw = ind_raw.replace('   ', \" \")\n",
    "ind_raw = ind_raw.replace('  ', \" \")\n",
    "ind_raw = ind_raw.replace('\\\",\\\"', \",\")\n",
    "ind_raw = ind_raw.replace('[\"', \"\")\n",
    "ind_raw = ind_raw.replace('\"]', \"\")"
   ]
  },
  {
   "cell_type": "code",
   "execution_count": 105,
   "metadata": {},
   "outputs": [
    {
     "data": {
      "text/plain": [
       "'4 cups water,1 cup uncooked old fashion grits,1 teaspoon salt,4 ounces shredded cheddar cheese,1 -2 clove garlic, minced ,1 tablespoon olive oil'"
      ]
     },
     "execution_count": 105,
     "metadata": {},
     "output_type": "execute_result"
    }
   ],
   "source": [
    "ind_raw"
   ]
  },
  {
   "cell_type": "code",
   "execution_count": 106,
   "metadata": {},
   "outputs": [
    {
     "data": {
      "text/plain": [
       "['4 cups water',\n",
       " '1 cup uncooked old fashion grits',\n",
       " '1 teaspoon salt',\n",
       " '4 ounces shredded cheddar cheese',\n",
       " '1 -2 clove garlic',\n",
       " ' minced ',\n",
       " '1 tablespoon olive oil']"
      ]
     },
     "execution_count": 106,
     "metadata": {},
     "output_type": "execute_result"
    }
   ],
   "source": [
    "ind_raw = ind_raw.split(',')\n"
   ]
  },
  {
   "cell_type": "code",
   "execution_count": 107,
   "metadata": {},
   "outputs": [],
   "source": [
    "ind_raw = pd.DataFrame(ind_raw)"
   ]
  },
  {
   "cell_type": "code",
   "execution_count": 108,
   "metadata": {},
   "outputs": [
    {
     "data": {
      "text/html": [
       "<div>\n",
       "<style scoped>\n",
       "    .dataframe tbody tr th:only-of-type {\n",
       "        vertical-align: middle;\n",
       "    }\n",
       "\n",
       "    .dataframe tbody tr th {\n",
       "        vertical-align: top;\n",
       "    }\n",
       "\n",
       "    .dataframe thead th {\n",
       "        text-align: right;\n",
       "    }\n",
       "</style>\n",
       "<table border=\"1\" class=\"dataframe\">\n",
       "  <thead>\n",
       "    <tr style=\"text-align: right;\">\n",
       "      <th></th>\n",
       "      <th>0</th>\n",
       "    </tr>\n",
       "  </thead>\n",
       "  <tbody>\n",
       "    <tr>\n",
       "      <th>0</th>\n",
       "      <td>4 cups water</td>\n",
       "    </tr>\n",
       "    <tr>\n",
       "      <th>1</th>\n",
       "      <td>1 cup uncooked old fashion grits</td>\n",
       "    </tr>\n",
       "    <tr>\n",
       "      <th>2</th>\n",
       "      <td>1 teaspoon salt</td>\n",
       "    </tr>\n",
       "    <tr>\n",
       "      <th>3</th>\n",
       "      <td>4 ounces shredded cheddar cheese</td>\n",
       "    </tr>\n",
       "    <tr>\n",
       "      <th>4</th>\n",
       "      <td>1 -2 clove garlic</td>\n",
       "    </tr>\n",
       "    <tr>\n",
       "      <th>5</th>\n",
       "      <td>minced</td>\n",
       "    </tr>\n",
       "    <tr>\n",
       "      <th>6</th>\n",
       "      <td>1 tablespoon olive oil</td>\n",
       "    </tr>\n",
       "  </tbody>\n",
       "</table>\n",
       "</div>"
      ],
      "text/plain": [
       "                                  0\n",
       "0                      4 cups water\n",
       "1  1 cup uncooked old fashion grits\n",
       "2                   1 teaspoon salt\n",
       "3  4 ounces shredded cheddar cheese\n",
       "4                 1 -2 clove garlic\n",
       "5                           minced \n",
       "6            1 tablespoon olive oil"
      ]
     },
     "execution_count": 108,
     "metadata": {},
     "output_type": "execute_result"
    }
   ],
   "source": [
    "ind_raw"
   ]
  },
  {
   "cell_type": "code",
   "execution_count": 109,
   "metadata": {},
   "outputs": [
    {
     "data": {
      "text/plain": [
       "\"['I a sauce pan, bring water to a boil; slowly add grits and salt, stirring constantly; Reduce heat:simmer, uncovered, for 40-45 minutes or untill thickened, stirrin occasionally.', 'Add cheese and garlic; stir until cheese is melted, Spray 9-inch baking dish with nonstick cooking spray; Cover and refrigerate for 2 to 2 1/2 hours or until frim.', 'Before starting the grill, coat the grill rack with nonstick cooking spray; Cut the grits into 3-inch squares; Brush both sides with olive oil.', 'Grill, covered, over medium heat for 4 to 6 minutes on each side or until lightly browned.']\""
      ]
     },
     "execution_count": 109,
     "metadata": {},
     "output_type": "execute_result"
    }
   ],
   "source": [
    "recipe_df.steps.iloc[0]"
   ]
  },
  {
   "cell_type": "markdown",
   "metadata": {},
   "source": [
    "Same with the steps, have to remove the extra characters"
   ]
  },
  {
   "cell_type": "code",
   "execution_count": null,
   "metadata": {},
   "outputs": [],
   "source": []
  }
 ],
 "metadata": {
  "interpreter": {
   "hash": "63fd5069d213b44bf678585dea6b12cceca9941eaf7f819626cde1f2670de90d"
  },
  "kernelspec": {
   "display_name": "Python 3.9.5 64-bit",
   "language": "python",
   "name": "python3"
  },
  "language_info": {
   "codemirror_mode": {
    "name": "ipython",
    "version": 3
   },
   "file_extension": ".py",
   "mimetype": "text/x-python",
   "name": "python",
   "nbconvert_exporter": "python",
   "pygments_lexer": "ipython3",
   "version": "3.9.5"
  },
  "orig_nbformat": 4
 },
 "nbformat": 4,
 "nbformat_minor": 2
}
